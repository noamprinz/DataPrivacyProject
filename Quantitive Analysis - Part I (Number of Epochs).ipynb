{
 "cells": [
  {
   "cell_type": "markdown",
   "id": "3a702dc6",
   "metadata": {},
   "source": [
    "# Metrics Visualization for Different Number of Epochs"
   ]
  },
  {
   "cell_type": "code",
   "id": "405596cc",
   "metadata": {},
   "source": [
    "import json\n",
    "import os\n",
    "import matplotlib.pyplot as plt\n",
    "import seaborn as sns\n",
    "import pandas as pd\n",
    "import numpy as np\n",
    "\n",
    "from analysis_util import load_and_extract_metrics"
   ],
   "outputs": [],
   "execution_count": null
  },
  {
   "cell_type": "code",
   "id": "3a3e2104",
   "metadata": {},
   "source": [
    "# Set Seaborn style and context\n",
    "sns.set_theme(style=\"whitegrid\")\n",
    "plt.figure(figsize=(16, 10))"
   ],
   "outputs": [],
   "execution_count": null
  },
  {
   "cell_type": "code",
   "id": "4bc8a440",
   "metadata": {},
   "source": "",
   "outputs": [],
   "execution_count": null
  },
  {
   "cell_type": "code",
   "id": "736b78f4",
   "metadata": {},
   "source": [
    "paths = {\n",
    "    1: 'SimulationOutputs/num_epochs_1/metrics.json',\n",
    "    2: 'SimulationOutputs/num_epochs_2/metrics.json',\n",
    "    3: 'SimulationOutputs/num_epochs_3/metrics.json',\n",
    "    4: 'SimulationOutputs/num_epochs_4/metrics.json',\n",
    "    5: 'SimulationOutputs/num_epochs_5/metrics.json',\n",
    "    10: 'SimulationOutputs/num_epochs_10/metrics.json'\n",
    "}"
   ],
   "outputs": [],
   "execution_count": null
  },
  {
   "cell_type": "code",
   "id": "fbec46aa",
   "metadata": {},
   "source": [
    "# Load metrics for each number of epochs\n",
    "num_epochs_metrics = {}\n",
    "for num_epochs, path in paths.items():\n",
    "    num_epochs_metrics[num_epochs] = load_and_extract_metrics(path)"
   ],
   "outputs": [],
   "execution_count": null
  },
  {
   "cell_type": "code",
   "id": "3a4fafd8",
   "metadata": {},
   "source": [
    "# Prepare data for plotting\n",
    "def prepare_metrics_dataframe(num_epochs_metrics, metric_type):\n",
    "    \"\"\"Prepare a long-format DataFrame for Seaborn plotting\"\"\"\n",
    "    data = []\n",
    "    for num_epochs, metrics in num_epochs_metrics.items():\n",
    "        for round_num, accuracy in enumerate(metrics[metric_type]):\n",
    "            data.append({\n",
    "                'Num Epochs': num_epochs,\n",
    "                'Round': round_num,\n",
    "                'Accuracy': accuracy\n",
    "            })\n",
    "    return pd.DataFrame(data)"
   ],
   "outputs": [],
   "execution_count": null
  },
  {
   "cell_type": "code",
   "id": "745d9c67",
   "metadata": {},
   "source": [
    "# Visualization 1: 6x2 Subplots Grid with Seaborn\n",
    "plt.figure(figsize=(20, 30))\n",
    "\n",
    "metric_types = ['server_metrics', 'aggregated_metrics']\n",
    "metric_names = ['Server Metrics', 'Aggregated Metrics']\n",
    "\n",
    "for i, (metric_type, metric_name) in enumerate(zip(metric_types, metric_names)):\n",
    "    df = prepare_metrics_dataframe(num_epochs_metrics, metric_type)\n",
    "    \n",
    "    for j, num_epochs in enumerate(sorted(num_epochs_metrics.keys())):\n",
    "        plt.subplot(6, 2, 2*j + i + 1)\n",
    "        subset = df[df['Num Epochs'] == num_epochs]\n",
    "        sns.lineplot(data=subset, x='Round', y='Accuracy', marker='o', color='blue')\n",
    "        plt.title(f'{num_epochs} Epochs - {metric_name}')\n",
    "        plt.xlabel('Round')\n",
    "        plt.ylabel('Accuracy')\n",
    "\n",
    "plt.tight_layout()\n",
    "plt.show()"
   ],
   "outputs": [],
   "execution_count": null
  },
  {
   "cell_type": "code",
   "id": "84e4a1f6",
   "metadata": {},
   "source": [
    "# Visualization 2: Combined Lines Plot with Seaborn\n",
    "plt.figure(figsize=(20, 10))\n",
    "\n",
    "metric_types = ['server_metrics', 'aggregated_metrics']\n",
    "metric_names = ['Server Metrics', 'Aggregated Metrics']\n",
    "\n",
    "for i, (metric_type, metric_name) in enumerate(zip(metric_types, metric_names)):\n",
    "    plt.subplot(1, 2, i + 1)\n",
    "    df = prepare_metrics_dataframe(num_epochs_metrics, metric_type)\n",
    "    sns.lineplot(data=df, x='Round', y='Accuracy', hue='Num Epochs', marker='o', palette='viridis')\n",
    "    plt.title(f'{metric_name} Across Different Epochs')\n",
    "    plt.xlabel('Round')\n",
    "    plt.ylabel('Accuracy')\n",
    "\n",
    "plt.tight_layout()\n",
    "plt.show()"
   ],
   "outputs": [],
   "execution_count": null
  },
  {
   "cell_type": "code",
   "id": "f826ae23",
   "metadata": {},
   "source": [
    "# Visualization 3: Best Metrics as Function of Epochs\n",
    "best_metrics = {\n",
    "    'Num Epochs': list(num_epochs_metrics.keys()),\n",
    "    'Server Best Metrics': [metrics['best_server_metric'] for metrics in num_epochs_metrics.values()],\n",
    "    'Aggregated Best Metrics': [metrics['best_aggregated_metric'] for metrics in num_epochs_metrics.values()]\n",
    "}\n",
    "\n",
    "best_metrics_df = pd.DataFrame(best_metrics)\n",
    "\n",
    "plt.figure(figsize=(20, 10))\n",
    "\n",
    "plt.subplot(1, 2, 1)\n",
    "sns.lineplot(data=best_metrics_df, x='Num Epochs', y='Server Best Metrics', marker='o')\n",
    "plt.title('Best Server Metrics vs Number of Epochs')\n",
    "plt.xlabel('Number of Epochs')\n",
    "plt.ylabel('Best Accuracy')\n",
    "\n",
    "plt.subplot(1, 2, 2)\n",
    "sns.lineplot(data=best_metrics_df, x='Num Epochs', y='Aggregated Best Metrics', marker='o')\n",
    "plt.title('Best Aggregated Metrics vs Number of Epochs')\n",
    "plt.xlabel('Number of Epochs')\n",
    "plt.ylabel('Best Accuracy')\n",
    "\n",
    "plt.tight_layout()\n",
    "plt.show()"
   ],
   "outputs": [],
   "execution_count": null
  }
 ],
 "metadata": {
  "kernelspec": {
   "display_name": "Python 3",
   "language": "python",
   "name": "python3"
  },
  "language_info": {
   "codemirror_mode": {
    "name": "ipython",
    "version": 3
   },
   "file_extension": ".py",
   "mimetype": "text/x-python",
   "name": "python",
   "nbconvert_exporter": "python",
   "pygments_lexer": "ipython3",
   "version": "3.8.5"
  }
 },
 "nbformat": 4,
 "nbformat_minor": 5
}
