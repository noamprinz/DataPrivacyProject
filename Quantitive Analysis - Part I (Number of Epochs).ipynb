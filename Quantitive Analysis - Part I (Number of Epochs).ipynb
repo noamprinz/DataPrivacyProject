{
 "cells": [
  {
   "cell_type": "markdown",
   "id": "3a702dc6",
   "metadata": {},
   "source": [
    "# Metrics Visualization for Different Number of Epochs"
   ]
  },
  {
   "cell_type": "code",
   "id": "405596cc",
   "metadata": {
    "ExecuteTime": {
     "end_time": "2024-12-21T00:26:43.948594Z",
     "start_time": "2024-12-21T00:26:43.922043Z"
    }
   },
   "source": [
    "import matplotlib.pyplot as plt\n",
    "import seaborn as sns\n",
    "import pandas as pd\n",
    "from win32com.server.localserver import serve\n",
    "\n",
    "from analysis_util import load_and_extract_metrics"
   ],
   "outputs": [],
   "execution_count": 1
  },
  {
   "cell_type": "code",
   "id": "3a3e2104",
   "metadata": {
    "ExecuteTime": {
     "end_time": "2024-12-21T00:26:43.994638Z",
     "start_time": "2024-12-21T00:26:43.968068Z"
    }
   },
   "source": [
    "# Set Seaborn style and context\n",
    "sns.set_theme(style=\"whitegrid\")\n",
    "plt.figure(figsize=(16, 10))"
   ],
   "outputs": [
    {
     "data": {
      "text/plain": [
       "<Figure size 1600x1000 with 0 Axes>"
      ]
     },
     "execution_count": 2,
     "metadata": {},
     "output_type": "execute_result"
    },
    {
     "data": {
      "text/plain": [
       "<Figure size 1600x1000 with 0 Axes>"
      ]
     },
     "metadata": {},
     "output_type": "display_data"
    }
   ],
   "execution_count": 2
  },
  {
   "metadata": {},
   "cell_type": "markdown",
   "source": "## Data Preparation",
   "id": "cb8606267c064a1d"
  },
  {
   "cell_type": "code",
   "id": "736b78f4",
   "metadata": {
    "ExecuteTime": {
     "end_time": "2024-12-21T00:26:44.271581Z",
     "start_time": "2024-12-21T00:26:44.259327Z"
    }
   },
   "source": [
    "paths = {\n",
    "    1: 'SimulationOutputs/num_epochs_1/metrics.json',\n",
    "    2: 'SimulationOutputs/num_epochs_2/metrics.json',\n",
    "    3: 'SimulationOutputs/num_epochs_3/metrics.json',\n",
    "    4: 'SimulationOutputs/num_epochs_4/metrics.json',\n",
    "    5: 'SimulationOutputs/num_epochs_5/metrics.json',\n",
    "    10: 'SimulationOutputs/num_epochs_10/metrics.json'\n",
    "}"
   ],
   "outputs": [],
   "execution_count": 3
  },
  {
   "cell_type": "code",
   "id": "fbec46aa",
   "metadata": {
    "ExecuteTime": {
     "end_time": "2024-12-21T00:26:44.379475Z",
     "start_time": "2024-12-21T00:26:44.305366Z"
    }
   },
   "source": [
    "# Load metrics for each number of epochs\n",
    "num_epochs_metrics = {}\n",
    "for num_epochs, path in paths.items():\n",
    "    num_epochs_metrics[num_epochs] = load_and_extract_metrics(path)"
   ],
   "outputs": [],
   "execution_count": 4
  },
  {
   "cell_type": "code",
   "id": "3a4fafd8",
   "metadata": {
    "ExecuteTime": {
     "end_time": "2024-12-21T00:26:44.410120Z",
     "start_time": "2024-12-21T00:26:44.397978Z"
    }
   },
   "source": [
    "# Prepare data for plotting\n",
    "def prepare_metrics_dataframe(num_epochs_metrics, metric_type):\n",
    "    data = []\n",
    "    for num_epochs, metrics in num_epochs_metrics.items():\n",
    "        for round_num, accuracy in enumerate(metrics[metric_type]):\n",
    "            data.append({\n",
    "                'Num Epochs': num_epochs,\n",
    "                'Round': round_num,\n",
    "                'Accuracy': accuracy\n",
    "            })\n",
    "    return pd.DataFrame(data)"
   ],
   "outputs": [],
   "execution_count": 5
  },
  {
   "metadata": {},
   "cell_type": "code",
   "source": [
    "server_df = prepare_metrics_dataframe(num_epochs_metrics, 'server_metrics')\n",
    "client_df = prepare_metrics_dataframe(num_epochs_metrics, 'aggregated_metrics')\n",
    "\n",
    "client_df['Round'] = client_df['Round'] + 1 # Shift rounds by 1\n",
    "\n",
    "best_metrics = {\n",
    "    'Num Epochs': list(num_epochs_metrics.keys()),\n",
    "    'Server Best Metrics': [metrics['best_server_metric'] for metrics in num_epochs_metrics.values()],\n",
    "    'Aggregated Best Metrics': [metrics['best_aggregated_metric'] for metrics in num_epochs_metrics.values()]\n",
    "}\n",
    "\n",
    "best_metrics_df = pd.DataFrame(best_metrics)"
   ],
   "id": "cc7c3d4a7cc405ad",
   "outputs": [],
   "execution_count": null
  },
  {
   "metadata": {},
   "cell_type": "markdown",
   "source": "## First Visualization: Accuracy per Round Comparison",
   "id": "38817ffe8a4676c6"
  },
  {
   "cell_type": "code",
   "id": "745d9c67",
   "metadata": {},
   "source": [
    "plt.figure(figsize=(15, 30))\n",
    "\n",
    "for j, num_epochs in enumerate(sorted(num_epochs_metrics.keys())):\n",
    "    plt.subplot(6, 1, j + 1)\n",
    "    \n",
    "    # Plot centralized accuracy\n",
    "    centralized_subset = server_df[server_df['Num Epochs'] == num_epochs]\n",
    "    sns.lineplot(data=centralized_subset, x='Round', y='Accuracy', \n",
    "                marker='o', color='blue', label='Centralized')\n",
    "    \n",
    "    # Plot distributed accuracy\n",
    "    distributed_subset = client_df[client_df['Num Epochs'] == num_epochs]\n",
    "    sns.lineplot(data=distributed_subset, x='Round', y='Accuracy', \n",
    "                marker='o', color='red', label='Distributed')\n",
    "    \n",
    "    plt.title(f'{num_epochs} Epochs - Accuracy Comparison')\n",
    "    plt.xlabel('Round')\n",
    "    plt.ylabel('Accuracy')\n",
    "    plt.legend()\n",
    "\n",
    "plt.tight_layout()\n",
    "plt.show()"
   ],
   "outputs": [],
   "execution_count": null
  },
  {
   "metadata": {},
   "cell_type": "markdown",
   "source": "## Best Metrics as Function of Epochs",
   "id": "7f09574460e486e"
  },
  {
   "cell_type": "code",
   "id": "f826ae23",
   "metadata": {},
   "source": [
    "plt.figure(figsize=(20, 10))\n",
    "\n",
    "plt.subplot(1, 2, 1)\n",
    "sns.lineplot(data=best_metrics_df, x='Num Epochs', y='Server Best Metrics', marker='o')\n",
    "plt.title('Best Server Metrics vs Number of Epochs')\n",
    "plt.xlabel('Number of Epochs')\n",
    "plt.ylabel('Best Accuracy')\n",
    "\n",
    "plt.subplot(1, 2, 2)\n",
    "sns.lineplot(data=best_metrics_df, x='Num Epochs', y='Aggregated Best Metrics', marker='o')\n",
    "plt.title('Best Aggregated Metrics vs Number of Epochs')\n",
    "plt.xlabel('Number of Epochs')\n",
    "plt.ylabel('Best Accuracy')\n",
    "\n",
    "plt.tight_layout()\n",
    "plt.show()"
   ],
   "outputs": [],
   "execution_count": null
  }
 ],
 "metadata": {
  "kernelspec": {
   "display_name": "Python 3",
   "language": "python",
   "name": "python3"
  },
  "language_info": {
   "codemirror_mode": {
    "name": "ipython",
    "version": 3
   },
   "file_extension": ".py",
   "mimetype": "text/x-python",
   "name": "python",
   "nbconvert_exporter": "python",
   "pygments_lexer": "ipython3",
   "version": "3.8.5"
  }
 },
 "nbformat": 4,
 "nbformat_minor": 5
}
