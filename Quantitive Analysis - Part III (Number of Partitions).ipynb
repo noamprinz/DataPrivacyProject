{
 "cells": [
  {
   "cell_type": "markdown",
   "metadata": {},
   "source": [
    "# Comparative Analysis of Number of Partitions\n",
    "\n",
    "This notebook performs a comprehensive analysis of metrics across different partition values."
   ]
  },
  {
   "cell_type": "code",
   "metadata": {
    "ExecuteTime": {
     "end_time": "2024-12-17T22:17:42.022452Z",
     "start_time": "2024-12-17T22:17:42.000748Z"
    }
   },
   "source": [
    "# Import required libraries\n",
    "import os\n",
    "import json\n",
    "import numpy as np\n",
    "import matplotlib.pyplot as plt\n",
    "import seaborn as sns\n",
    "import pandas as pd\n",
    "\n",
    "from analysis_util import load_and_extract_metrics"
   ],
   "outputs": [],
   "execution_count": 4
  },
  {
   "cell_type": "code",
   "metadata": {
    "ExecuteTime": {
     "end_time": "2024-12-17T22:17:42.054039Z",
     "start_time": "2024-12-17T22:17:42.022452Z"
    }
   },
   "source": [
    "def analyze_num_partitions(base_path, partition_values):\n",
    "    \"\"\"\n",
    "    Perform comprehensive analysis of metrics across different partition values.\n",
    "\n",
    "    Args:\n",
    "        base_path (str): Base directory containing JSON files\n",
    "        partition_values (list): List of partition values to analyze\n",
    "    \"\"\"\n",
    "    # Set up seaborn style\n",
    "    sns.set_theme(style=\"whitegrid\")\n",
    "    plt.figure(figsize=(20, 15))\n",
    "\n",
    "    # Collect metrics for all partition values\n",
    "    all_metrics = []\n",
    "\n",
    "    # 1. 7x2 Subplots: Aggregated and Server Metrics\n",
    "    plt.figure(figsize=(20, 25))\n",
    "    for i, partitions in enumerate(partition_values, 1):\n",
    "        # Construct file path\n",
    "        file_path = os.path.join(base_path, f'num_partitions_{partitions}/metrics.json')\n",
    "        metrics = load_and_extract_metrics(file_path)\n",
    "        \n",
    "        # Store metrics for later use\n",
    "        metrics['num_partitions'] = partitions\n",
    "        all_metrics.append(metrics)\n",
    "\n",
    "        # Subplot for aggregated metrics\n",
    "        plt.subplot(7, 2, 2*i-1)\n",
    "        plt.plot(metrics['aggregated_metrics'], label=f'Partitions: {partitions}')\n",
    "        plt.title(f'Aggregated Metrics (Partitions: {partitions})')\n",
    "        plt.xlabel('Rounds')\n",
    "        plt.ylabel('Accuracy')\n",
    "        plt.legend()\n",
    "\n",
    "        # Subplot for server metrics\n",
    "        plt.subplot(7, 2, 2*i)\n",
    "        plt.plot(metrics['server_metrics'], label=f'Partitions: {partitions}', color='orange')\n",
    "        plt.title(f'Server Metrics (Partitions: {partitions})')\n",
    "        plt.xlabel('Rounds')\n",
    "        plt.ylabel('Accuracy')\n",
    "        plt.legend()\n",
    "\n",
    "    plt.tight_layout()\n",
    "    plt.savefig('num_partitions_subplot_metrics.png')\n",
    "    plt.close()\n",
    "\n",
    "    # 2. Comparison Plots for Metrics\n",
    "    plt.figure(figsize=(15, 10))\n",
    "    \n",
    "    # Aggregated Metrics Comparison\n",
    "    plt.subplot(1, 2, 1)\n",
    "    for metrics in all_metrics:\n",
    "        plt.plot(metrics['aggregated_metrics'], \n",
    "                 label=f'{metrics[\"num_partitions\"]} Partitions')\n",
    "    plt.title('Aggregated Metrics Comparison')\n",
    "    plt.xlabel('Rounds')\n",
    "    plt.ylabel('Accuracy')\n",
    "    plt.legend()\n",
    "\n",
    "    # Server Metrics Comparison\n",
    "    plt.subplot(1, 2, 2)\n",
    "    for metrics in all_metrics:\n",
    "        plt.plot(metrics['server_metrics'], \n",
    "                 label=f'{metrics[\"num_partitions\"]} Partitions')\n",
    "    plt.title('Server Metrics Comparison')\n",
    "    plt.xlabel('Rounds')\n",
    "    plt.ylabel('Accuracy')\n",
    "    plt.legend()\n",
    "\n",
    "    plt.tight_layout()\n",
    "    plt.savefig('num_partitions_metrics_comparison.png')\n",
    "    plt.close()\n",
    "\n",
    "    # 3. Best Metric Scores vs Number of Partitions\n",
    "    plt.figure(figsize=(15, 10))\n",
    "    \n",
    "    # Best Aggregated Metrics\n",
    "    plt.subplot(1, 2, 1)\n",
    "    best_aggregated = [metrics['best_aggregated_metric'] for metrics in all_metrics]\n",
    "    plt.plot(partition_values, best_aggregated, marker='o')\n",
    "    plt.title('Best Aggregated Metric Score')\n",
    "    plt.xlabel('Number of Partitions')\n",
    "    plt.ylabel('Best Accuracy')\n",
    "    plt.xticks(partition_values)\n",
    "\n",
    "    # Best Server Metrics\n",
    "    plt.subplot(1, 2, 2)\n",
    "    best_server = [metrics['best_server_metric'] for metrics in all_metrics]\n",
    "    plt.plot(partition_values, best_server, marker='o', color='orange')\n",
    "    plt.title('Best Server Metric Score')\n",
    "    plt.xlabel('Number of Partitions')\n",
    "    plt.ylabel('Best Accuracy')\n",
    "    plt.xticks(partition_values)\n",
    "\n",
    "    plt.tight_layout()\n",
    "    plt.savefig('num_partitions_best_metrics.png')\n",
    "    plt.close()"
   ],
   "outputs": [],
   "execution_count": 5
  },
  {
   "cell_type": "markdown",
   "metadata": {},
   "source": [
    "## Run Analysis\n",
    "\n",
    "Set the base path to your JSON results directory and specify the partition values."
   ]
  },
  {
   "cell_type": "code",
   "metadata": {
    "ExecuteTime": {
     "end_time": "2024-12-17T22:17:44.403098Z",
     "start_time": "2024-12-17T22:17:42.070102Z"
    }
   },
   "source": [
    "# Set base path and partition values\n",
    "base_path = './SimulationOutputs/'\n",
    "partition_values = [1, 2, 3, 4, 5, 10, 20]\n",
    "\n",
    "# Run the analysis\n",
    "analyze_num_partitions(base_path, partition_values)"
   ],
   "outputs": [
    {
     "data": {
      "text/plain": [
       "<Figure size 2000x1500 with 0 Axes>"
      ]
     },
     "metadata": {},
     "output_type": "display_data"
    }
   ],
   "execution_count": 6
  },
  {
   "cell_type": "markdown",
   "metadata": {},
   "source": [
    "## Output\n",
    "\n",
    "The script will generate three output images:\n",
    "1. `num_partitions_subplot_metrics.png`: 7x2 subplots of metrics\n",
    "2. `num_partitions_metrics_comparison.png`: Comparison of all metrics\n",
    "3. `num_partitions_best_metrics.png`: Best metric scores vs number of partitions"
   ]
  }
 ],
 "metadata": {
  "kernelspec": {
   "display_name": "Python 3",
   "language": "python",
   "name": "python3"
  },
  "language_info": {
   "codemirror_mode": {
    "name": "ipython",
    "version": 3
   },
   "file_extension": ".py",
   "mimetype": "text/x-python",
   "name": "python",
   "nbconvert_exporter": "python",
   "pygments_lexer": "ipython3",
   "version": "3.8.5"
  }
 },
 "nbformat": 4,
 "nbformat_minor": 4
}
